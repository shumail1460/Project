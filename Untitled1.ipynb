{
  "nbformat": 4,
  "nbformat_minor": 0,
  "metadata": {
    "colab": {
      "provenance": [],
      "authorship_tag": "ABX9TyOLy88QyyJOqnL7CnWVtRjK",
      "include_colab_link": true
    },
    "kernelspec": {
      "name": "python3",
      "display_name": "Python 3"
    },
    "language_info": {
      "name": "python"
    }
  },
  "cells": [
    {
      "cell_type": "markdown",
      "metadata": {
        "id": "view-in-github",
        "colab_type": "text"
      },
      "source": [
        "<a href=\"https://colab.research.google.com/github/shumail1460/Project/blob/main/Untitled1.ipynb\" target=\"_parent\"><img src=\"https://colab.research.google.com/assets/colab-badge.svg\" alt=\"Open In Colab\"/></a>"
      ]
    },
    {
      "cell_type": "code",
      "execution_count": 1,
      "metadata": {
        "colab": {
          "base_uri": "https://localhost:8080/"
        },
        "id": "my6U7Gz2lO9a",
        "outputId": "d5c402c4-8f21-4774-c5fc-4ac1168b5618"
      },
      "outputs": [
        {
          "output_type": "stream",
          "name": "stdout",
          "text": [
            "Mounted at /content/drive/\n"
          ]
        }
      ],
      "source": [
        "from google.colab import drive\n",
        "drive.mount('/content/drive/')"
      ]
    },
    {
      "cell_type": "code",
      "source": [
        "import pandas as pd\n",
        "import os"
      ],
      "metadata": {
        "id": "DZLHRkOvmW1v"
      },
      "execution_count": 8,
      "outputs": []
    },
    {
      "cell_type": "markdown",
      "source": [
        "# Merge the 12 months Datas into a single csv file"
      ],
      "metadata": {
        "id": "lXJtZ_m_mfRE"
      }
    },
    {
      "cell_type": "code",
      "source": [
        "data = pd.read_csv(\"/content/drive/MyDrive/DSP1/Sales_Data/Sales_April_2019.csv\")\n",
        "\n",
        "files = [file for file in os.listdir(\"/content/drive/MyDrive/DSP1/Sales_Data\")]\n",
        "\n",
        "all_months_data = pd.DataFrame()\n",
        "\n",
        "for file in files:\n",
        "  data = pd.read_csv(\"/content/drive/MyDrive/DSP1/Sales_Data\"+file)\n",
        "  all_months_data = pd.concat([all_months_data,data])\n",
        "\n",
        "all_months_data.to_csv(\"all data.csv\", index=False)"
      ],
      "metadata": {
        "id": "vobIUF_cnWDk"
      },
      "execution_count": null,
      "outputs": []
    }
  ]
}